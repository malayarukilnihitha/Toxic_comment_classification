{
  "nbformat": 4,
  "nbformat_minor": 0,
  "metadata": {
    "colab": {
      "provenance": []
    },
    "kernelspec": {
      "name": "python3",
      "display_name": "Python 3"
    },
    "language_info": {
      "name": "python"
    }
  },
  "cells": [
    {
      "cell_type": "code",
      "execution_count": 1,
      "metadata": {
        "id": "YqDwDHDQSiEo"
      },
      "outputs": [],
      "source": [
        "#Importing libraries\n",
        "import os\n",
        "import numpy as np\n",
        "import pandas as pd\n",
        "import torch\n",
        "import torch.nn as nn\n",
        "import torch.optim as optim\n",
        "from sklearn.feature_extraction.text import CountVectorizer\n",
        "from sklearn.model_selection import train_test_split\n",
        "from torch.utils.data import Dataset, DataLoader\n",
        "from sklearn.naive_bayes import MultinomialNB\n",
        "from sklearn.metrics import accuracy_score, classification_report"
      ]
    },
    {
      "cell_type": "code",
      "source": [
        "#File paths\n",
        "train_x = pd.read_csv('/content/drive/MyDrive/DL_LAB/toxic-comment-classification/kaggle_data/train_x.csv')\n",
        "train_y = pd.read_csv('/content/drive/MyDrive/DL_LAB/toxic-comment-classification/kaggle_data/train_y.csv')\n",
        "val_x = pd.read_csv('/content/drive/MyDrive/DL_LAB/toxic-comment-classification/kaggle_data/val_x.csv')\n",
        "val_y = pd.read_csv('/content/drive/MyDrive/DL_LAB/toxic-comment-classification/kaggle_data/val_y.csv')\n",
        "test_x = pd.read_csv('/content/drive/MyDrive/DL_LAB/toxic-comment-classification/kaggle_data/test_x.csv')\n",
        "\n"
      ],
      "metadata": {
        "id": "-9HSNDfQSkpW"
      },
      "execution_count": 3,
      "outputs": []
    },
    {
      "cell_type": "code",
      "source": [
        "#Cleaning data\n",
        "import re\n",
        "def clean_text(text):\n",
        "    if pd.isnull(text):\n",
        "        return \"\"\n",
        "    # Remove URLs\n",
        "    text = re.sub(r\"https?://\\S+|www\\.\\S+\", \"\", text)\n",
        "    # Remove IP addresses\n",
        "    text = re.sub(r\"\\d{1,3}\\.\\d{1,3}\\.\\d{1,3}\\.\\d{1,3}\", \"\", text)\n",
        "    # Remove HTML tags\n",
        "    text = re.sub(r\"<.*?>\", \"\", text)\n",
        "    # Replace double quotes\n",
        "    text = re.sub(r\"\\\"\\\"\", \"\\\"\", text)\n",
        "    text = re.sub(r\"^\\\"\", \"\", text)\n",
        "    text = re.sub(r\"\\\"$\", \"\", text)\n",
        "    # Remove punctuation/special characters appearing more than twice\n",
        "    text = re.sub(r\"[^a-zA-Z0-9\\s][^a-zA-Z0-9\\s]+\", \" \", text)\n",
        "    # Remove special characters\n",
        "    text = re.sub(r\"[^a-zA-Z0-9\\s\\\"\\',:;?!.()]\", \" \", text)\n",
        "    # Remove extra spaces\n",
        "    text = re.sub(r\"\\s\\s+\", \" \", text)\n",
        "\n",
        "    return text\n",
        "\n",
        "# Apply the clean_text function to your DataFrame column\n",
        "train_x[\"cleaned_string\"] = train_x[\"string\"].map(clean_text)\n",
        "val_x[\"cleaned_string\"] = val_x[\"string\"].map(clean_text)\n",
        "test_x[\"cleaned_string\"] = test_x[\"string\"].map(clean_text)\n"
      ],
      "metadata": {
        "id": "ZkA1unEgSnP1"
      },
      "execution_count": 4,
      "outputs": []
    },
    {
      "cell_type": "code",
      "source": [
        "#Saving files\n",
        "train_x.to_csv('train_x.csv', index=False)\n",
        "val_x.to_csv('val_x.csv', index=False)\n",
        "test_x.to_csv('test_x.csv', index=False)\n",
        "\n",
        "train_y.to_csv('train_y.csv', index=False)\n",
        "val_y.to_csv('val_y.csv', index=False)\n",
        "\n"
      ],
      "metadata": {
        "id": "BBIVttdVSqHr"
      },
      "execution_count": 5,
      "outputs": []
    },
    {
      "cell_type": "code",
      "source": [
        "\n",
        "#Creating dataset to fit count vectorizer using the training set, and use it on the validation and test sets.\n",
        "class TextDataset(Dataset):\n",
        "    def __init__(self, data, labels=None, vectorizer=None,mode='train'):\n",
        "        super(TextDataset, self).__init__()\n",
        "\n",
        "        self.data = data\n",
        "        self.labels = labels\n",
        "        self.vectorizer = vectorizer\n",
        "        self.mode = mode\n",
        "\n",
        "        if self.vectorizer is None:\n",
        "            self.vectorizer = CountVectorizer()\n",
        "            self.vectorizer.fit(self.data.values.flatten().tolist())\n",
        "\n",
        "    def __len__(self):\n",
        "        return len(self.data)\n",
        "\n",
        "    def __getitem__(self, idx):\n",
        "        x = self.data.iloc[idx]\n",
        "        x = self.vectorizer.transform([x]).toarray()\n",
        "        x = torch.tensor(x).float()\n",
        "\n",
        "        if self.mode == 'test':\n",
        "            return x, idx\n",
        "\n",
        "        else:\n",
        "            y = torch.tensor([self.labels.iloc[idx, -2]])\n",
        "            return x, y, idx"
      ],
      "metadata": {
        "id": "5CS5CiTCSxpe"
      },
      "execution_count": 6,
      "outputs": []
    },
    {
      "cell_type": "code",
      "source": [
        "train_dataset = TextDataset(train_x[\"cleaned_string\"], labels=train_y, mode='train')\n",
        "val_dataset = TextDataset(val_x[\"cleaned_string\"], labels=val_y, vectorizer=train_dataset.vectorizer, mode='val')"
      ],
      "metadata": {
        "id": "-ObekiUVS07X"
      },
      "execution_count": 7,
      "outputs": []
    },
    {
      "cell_type": "code",
      "source": [
        "train_dataloader = DataLoader(train_dataset, batch_size=256, shuffle=True)\n",
        "val_dataloader = DataLoader(val_dataset, batch_size=256, shuffle=False)"
      ],
      "metadata": {
        "id": "mir8AWoUTEhi"
      },
      "execution_count": 8,
      "outputs": []
    },
    {
      "cell_type": "code",
      "source": [
        "#Naivebayesclassifier\n",
        "class NaiveBayesClassifier(nn.Module):\n",
        "    def __init__(self, input_size, hidden_size, dropout_rate=0.1,weight_decay=0.01):\n",
        "        super(NaiveBayesClassifier, self).__init__()\n",
        "        self.fc = nn.Linear(input_size, hidden_size)\n",
        "        self.relu = nn.ReLU()\n",
        "        self.dropout = nn.Dropout(p=dropout_rate)\n",
        "        self.output_layer = nn.Linear(hidden_size, 1)\n",
        "        self.apply_weight_decay(weight_decay)\n",
        "\n",
        "    def apply_weight_decay(self, weight_decay):\n",
        "        for param in self.parameters():\n",
        "            if len(param.shape) > 1:\n",
        "                param.data = param.data.add_(-weight_decay, param.data)\n",
        "\n",
        "    def forward(self, x):\n",
        "        x = x.view(x.size(0), -1)\n",
        "        x = self.fc(x)\n",
        "        x = self.relu(x)\n",
        "        x = self.dropout(x)\n",
        "        x = self.output_layer(x)\n",
        "        return torch.sigmoid(x)"
      ],
      "metadata": {
        "id": "v6Y5qhJZTPV_"
      },
      "execution_count": 9,
      "outputs": []
    },
    {
      "cell_type": "code",
      "source": [
        "# Define the worst_group_accuracy function\n",
        "def worst_group_accuracy(prediction, y):\n",
        "    y.loc[prediction['index'], 'pred'] = prediction['pred']\n",
        "    categories = ['male', 'female', 'LGBTQ', 'christian', 'muslim', 'other_religions', 'black', 'white']\n",
        "    accuracies = []\n",
        "    for category in categories:\n",
        "        for labels in [0, 1]:\n",
        "            group = y.loc[y[category] == labels]\n",
        "            group_accuracy = (group['y'] == (group['pred'] > 0.5)).mean()\n",
        "            accuracies.append(group_accuracy)\n",
        "    wga = np.min(accuracies)\n",
        "    return wga"
      ],
      "metadata": {
        "id": "9AgLMy9IeTwC"
      },
      "execution_count": 10,
      "outputs": []
    },
    {
      "cell_type": "code",
      "source": [
        "# Define the evaluate_model function\n",
        "def evaluate_model(model, dataloader, criterion):\n",
        "    model.eval()\n",
        "    losses, predictions, indices = [], [], []\n",
        "    for x, y, idx in tqdm(dataloader, leave=False):\n",
        "        with torch.no_grad():\n",
        "            pred = model(x)\n",
        "        loss = criterion(pred.squeeze(), y.squeeze().float())\n",
        "        losses.extend([loss.item()] * len(y))\n",
        "        predictions.extend(pred.detach().squeeze().tolist())\n",
        "        indices.extend(idx.tolist())\n",
        "\n",
        "    pred_df = pd.DataFrame({'index': indices, 'pred': predictions})\n",
        "    dataset_loss = np.mean(losses)\n",
        "    dataset_metric = worst_group_accuracy(pred_df, dataloader.dataset.labels)\n",
        "\n",
        "    return dataset_loss, dataset_metric\n"
      ],
      "metadata": {
        "id": "7BUYV3gBeTtd"
      },
      "execution_count": 11,
      "outputs": []
    },
    {
      "cell_type": "code",
      "source": [
        "from tqdm import tqdm\n",
        "# Define the train_model function\n",
        "def train_model(model, optimizer, criterion, dataloader):\n",
        "    model.train()\n",
        "    losses, predictions, indices = [], [], []\n",
        "    for x, y, idx in tqdm(dataloader, leave=False):\n",
        "        optimizer.zero_grad()\n",
        "        pred = model(x)\n",
        "        loss = criterion(pred.squeeze(), y.squeeze().float())\n",
        "        loss.backward()\n",
        "        optimizer.step()\n",
        "\n",
        "        losses.extend([loss.item()] * len(y))\n",
        "        predictions.extend(pred.detach().squeeze().tolist())\n",
        "        indices.extend(idx.tolist())\n",
        "\n",
        "    pred_df = pd.DataFrame({'index': indices, 'pred': predictions})\n",
        "    dataset_loss = np.mean(losses)\n",
        "    dataset_metric = worst_group_accuracy(pred_df, y=dataloader.dataset.labels)\n",
        "    #print(f'Epoch {epoch + 1}/{epochs}, Training Loss: {dataset_loss:.4f}, Training Metric: {dataset_metric:.4f}')\n",
        "    return dataset_loss, dataset_metric\n"
      ],
      "metadata": {
        "id": "uclkCFJbeTRU"
      },
      "execution_count": 12,
      "outputs": []
    },
    {
      "cell_type": "code",
      "source": [
        "from sklearn.feature_extraction.text import CountVectorizer\n",
        "vectorizer = CountVectorizer()\n",
        "vectorizer.fit(train_x['cleaned_string'].values.flatten().tolist())\n",
        "input_size = len(vectorizer.get_feature_names_out())"
      ],
      "metadata": {
        "id": "nOhSEebhOPmR"
      },
      "execution_count": 26,
      "outputs": []
    },
    {
      "cell_type": "code",
      "source": [
        "# Assuming train_dataloader and val_dataloader are defined\n",
        "hidden_size = 256\n",
        "dropout_rate = 0.1\n",
        "weight_decay = 0.01\n",
        "model = NaiveBayesClassifier(input_size, hidden_size, dropout_rate, weight_decay)\n",
        "optimizer = optim.AdamW(model.parameters(), lr=0.0009)\n",
        "criterion = nn.BCELoss()"
      ],
      "metadata": {
        "colab": {
          "base_uri": "https://localhost:8080/"
        },
        "id": "tMTsvvYUeTOd",
        "outputId": "0405a276-8d41-4f66-80d4-e68499312d6c"
      },
      "execution_count": 14,
      "outputs": [
        {
          "output_type": "stream",
          "name": "stderr",
          "text": [
            "<ipython-input-9-fe9aa62d5f6d>:14: UserWarning: This overload of add_ is deprecated:\n",
            "\tadd_(Number alpha, Tensor other)\n",
            "Consider using one of the following signatures instead:\n",
            "\tadd_(Tensor other, *, Number alpha) (Triggered internally at ../torch/csrc/utils/python_arg_parser.cpp:1519.)\n",
            "  param.data = param.data.add_(-weight_decay, param.data)\n"
          ]
        }
      ]
    },
    {
      "cell_type": "code",
      "source": [
        "# Training loop\n",
        "epochs=1\n",
        "training_losses = []\n",
        "validation_losses = []\n",
        "for epoch in range(epochs):\n",
        "    # Training phase\n",
        "    train_loss, _ = train_model(model, optimizer, criterion, train_dataloader)\n",
        "    training_losses.append(train_loss)\n",
        "\n",
        "    # Validation phase\n",
        "    val_loss, _ = evaluate_model(model, val_dataloader, criterion)\n",
        "    validation_losses.append(val_loss)\n",
        "\n",
        "    # Print or log the progress\n",
        "    print(f'Epoch {epoch + 1}/{epochs}, Training Loss: {train_loss:.4f}, Validation Loss: {val_loss:.4f}')"
      ],
      "metadata": {
        "colab": {
          "base_uri": "https://localhost:8080/"
        },
        "id": "Q9olTWqyeTAs",
        "outputId": "7ccc5fd2-ae01-4ab2-ca4a-c0685825932d"
      },
      "execution_count": 15,
      "outputs": [
        {
          "output_type": "stream",
          "name": "stderr",
          "text": [
            "                                                 "
          ]
        },
        {
          "output_type": "stream",
          "name": "stdout",
          "text": [
            "Epoch 1/1, Training Loss: 0.2647, Validation Loss: 0.2152\n"
          ]
        },
        {
          "output_type": "stream",
          "name": "stderr",
          "text": [
            "\r"
          ]
        }
      ]
    },
    {
      "cell_type": "code",
      "source": [
        "#Finding WGA\n",
        "val_loss, val_metric = evaluate_model(model, val_dataloader, criterion)\n",
        "print(f'classifier validation loss {val_loss:.5f} WGA {val_metric:.5f}')"
      ],
      "metadata": {
        "colab": {
          "base_uri": "https://localhost:8080/"
        },
        "id": "uJDZJaXTiEtI",
        "outputId": "f9db5711-3bda-447a-b7c4-214f7333107c"
      },
      "execution_count": 22,
      "outputs": [
        {
          "output_type": "stream",
          "name": "stderr",
          "text": [
            "                                                 "
          ]
        },
        {
          "output_type": "stream",
          "name": "stdout",
          "text": [
            "classifier validation loss 0.19536 WGA 0.75605\n"
          ]
        },
        {
          "output_type": "stream",
          "name": "stderr",
          "text": [
            "\r"
          ]
        }
      ]
    },
    {
      "cell_type": "code",
      "source": [
        "#Predicting on test data\n",
        "test_dataset = TextDataset(test_x[\"cleaned_string\"],vectorizer=vectorizer, mode='test')\n",
        "test_dataloader = DataLoader(test_dataset, batch_size=256, shuffle=False)\n",
        "\n",
        "model.eval()\n",
        "test_predictions, indices = [], []\n",
        "for x, idx in tqdm(test_dataloader, leave=False):\n",
        "    x = x.view(x.size(0), -1)\n",
        "    #print(\"Input Shape:\", x.shape)\n",
        "    with torch.no_grad():\n",
        "        pred = (model(x).squeeze() > 0.5).int()\n",
        "    test_predictions.extend(pred.tolist())\n",
        "    indices.extend(idx.tolist())"
      ],
      "metadata": {
        "colab": {
          "base_uri": "https://localhost:8080/"
        },
        "id": "IgA--fia8ER3",
        "outputId": "668b24a7-6922-474d-a0bb-62f75d51f641"
      },
      "execution_count": 27,
      "outputs": [
        {
          "output_type": "stream",
          "name": "stderr",
          "text": []
        }
      ]
    },
    {
      "cell_type": "code",
      "source": [
        "pred_df = pd.DataFrame({'ID': indices, 'pred': test_predictions})\n",
        "pred_df.to_csv('prediction.csv', index=False)"
      ],
      "metadata": {
        "id": "X4bqxWTB8R7Z"
      },
      "execution_count": 28,
      "outputs": []
    },
    {
      "cell_type": "markdown",
      "source": [
        "Calculating specificity and sensitivity"
      ],
      "metadata": {
        "id": "Nd93q0Kw-EoW"
      }
    },
    {
      "cell_type": "code",
      "source": [
        "#splitting a part of validation data to test data\n",
        "y = val_y['y']\n",
        "X_val, X_test, y_val, y_test = train_test_split(val_x, y, test_size=0.2, random_state=42)"
      ],
      "metadata": {
        "id": "HYyUaLma5olD"
      },
      "execution_count": 17,
      "outputs": []
    },
    {
      "cell_type": "code",
      "source": [
        "#Predicting on test data\n",
        "test_dataset = TextDataset(X_test[\"cleaned_string\"],vectorizer=vectorizer, mode='test')\n",
        "test_dataloader = DataLoader(test_dataset, batch_size=256, shuffle=False)\n",
        "\n",
        "model.eval()\n",
        "test_predict, indices = [], []\n",
        "for x, idx in tqdm(test_dataloader, leave=False):\n",
        "    x = x.view(x.size(0), -1)\n",
        "    #print(\"Input Shape:\", x.shape)\n",
        "    with torch.no_grad():\n",
        "        pred = (model(x).squeeze() > 0.5).int()\n",
        "    test_predict.extend(pred.tolist())\n",
        "    indices.extend(idx.tolist())"
      ],
      "metadata": {
        "colab": {
          "base_uri": "https://localhost:8080/"
        },
        "id": "K_UzgvWY_PSI",
        "outputId": "b8659a86-5a61-4101-9c4c-89a2c5820aea"
      },
      "execution_count": 18,
      "outputs": [
        {
          "output_type": "stream",
          "name": "stderr",
          "text": []
        }
      ]
    },
    {
      "cell_type": "code",
      "source": [
        "X_val_vect = vectorizer.fit_transform(X_val['string'])\n",
        "X_test_vect = vectorizer.transform(X_test['string'])\n",
        "y_val = y_val.astype(int)"
      ],
      "metadata": {
        "id": "4mNjPENp7NrH"
      },
      "execution_count": 19,
      "outputs": []
    },
    {
      "cell_type": "code",
      "source": [
        "import sklearn\n",
        "import matplotlib.pyplot as plt\n",
        "from sklearn.metrics import accuracy_score, f1_score, recall_score, precision_score, roc_auc_score\n",
        "from sklearn.metrics import roc_curve, auc\n",
        "\n",
        "import seaborn as sns\n",
        "\n",
        "def getAllMetrics(y_pred, y_test):\n",
        "\n",
        "    #Classification report\n",
        "    report = sklearn.metrics.classification_report(y_test, y_pred, digits=4, zero_division='warn')\n",
        "    print(report)\n",
        "\n",
        "    #Confussion matrix\n",
        "    print('Confusion matrix')\n",
        "    cf_mat = sklearn.metrics.confusion_matrix(y_test, y_pred)\n",
        "    sns.heatmap(cf_mat, annot=True,fmt=\"d\")\n",
        "    plt.show()\n",
        "\n",
        "    # Compute ROC curve and ROC area for each class\n",
        "    fpr, tpr, _ = roc_curve(y_test, y_pred)\n",
        "    roc_auc = auc(fpr, tpr)\n",
        "\n",
        "    # Plot ROC curve\n",
        "    plt.figure(figsize=(3,3))\n",
        "    plt.plot(fpr, tpr, color='darkorange', lw=2, label=f'ROC curve (AUC = {roc_auc:.2f})')\n",
        "    plt.plot([0, 1], [0, 1], color='navy', lw=2, linestyle='--')\n",
        "    plt.xlabel('False Positive Rate')\n",
        "    plt.ylabel('True Positive Rate')\n",
        "    plt.title('Receiver Operating Characteristic (ROC) Curve')\n",
        "    plt.legend(loc='lower right')\n",
        "    plt.show()\n",
        "\n",
        "getAllMetrics(test_predict, y_test)"
      ],
      "metadata": {
        "colab": {
          "base_uri": "https://localhost:8080/",
          "height": 925
        },
        "id": "2iJrxy2uvyMg",
        "outputId": "77781fe4-12a3-4c2f-faf5-5970c025a015"
      },
      "execution_count": 21,
      "outputs": [
        {
          "output_type": "stream",
          "name": "stdout",
          "text": [
            "              precision    recall  f1-score   support\n",
            "\n",
            "           0     0.9279    0.9798    0.9531      8014\n",
            "           1     0.7178    0.4031    0.5163      1022\n",
            "\n",
            "    accuracy                         0.9146      9036\n",
            "   macro avg     0.8228    0.6915    0.7347      9036\n",
            "weighted avg     0.9041    0.9146    0.9037      9036\n",
            "\n",
            "Confusion matrix\n"
          ]
        },
        {
          "output_type": "display_data",
          "data": {
            "text/plain": [
              "<Figure size 640x480 with 2 Axes>"
            ],
            "image/png": "[encoded data removed]"
          },
          "metadata": {}
        },
        {
          "output_type": "display_data",
          "data": {
            "text/plain": [
              "<Figure size 300x300 with 1 Axes>"
            ],
            "image/png": "[encoded data removed]"
          },
          "metadata": {}
        }
      ]
    }
  ]
}